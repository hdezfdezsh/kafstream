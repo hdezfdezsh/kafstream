{
 "cells": [
  {
   "cell_type": "code",
   "execution_count": 9,
   "metadata": {},
   "outputs": [],
   "source": [
    "from pyspark import SparkContext\n",
    "from pyspark.streaming import StreamingContext\n",
    "from pyspark.streaming.kafka import KafkaUtils\n",
    "import json"
   ]
  },
  {
   "cell_type": "code",
   "execution_count": 10,
   "metadata": {
    "scrolled": false
   },
   "outputs": [],
   "source": [
    "sc.stop()\n",
    "__name__ == \"__ main __\"\n",
    "sc = SparkContext(appName=\"PythonSparkStreamingKafka\")\n",
    "ssc = StreamingContext(sc,60)\n",
    "kafkaStream = KafkaUtils.createStream(ssc, 'localhost:2181', 'spark-streaming', {'trump':1})"
   ]
  },
  {
   "cell_type": "code",
   "execution_count": 11,
   "metadata": {
    "scrolled": true
   },
   "outputs": [],
   "source": [
    "parsed = kafkaStream.map(lambda v: json.loads(v[1]))\n",
    "user_counts = parsed.map(lambda tweet: (tweet['user'][\"screen_name\"], 1)).reduceByKey(lambda x,y: x + y)\n",
    "user_counts.pprint()"
   ]
  },
  {
   "cell_type": "code",
   "execution_count": 12,
   "metadata": {
    "scrolled": true
   },
   "outputs": [
    {
     "name": "stdout",
     "output_type": "stream",
     "text": [
      "-------------------------------------------\n",
      "Time: 2019-03-02 21:33:00\n",
      "-------------------------------------------\n",
      "('nitenurse2', 1)\n",
      "('GlobalCitizenPC', 1)\n",
      "('dbondrn', 1)\n",
      "('Molotov_Cocktel', 1)\n",
      "('Crystal_Resists', 1)\n",
      "('PSampsonHowes', 1)\n",
      "('taxmary1', 1)\n",
      "('JimFortner2', 1)\n",
      "('GinaMakesWaves', 1)\n",
      "('gmachrisc', 1)\n",
      "...\n",
      "\n",
      "-------------------------------------------\n",
      "Time: 2019-03-02 21:34:00\n",
      "-------------------------------------------\n",
      "('ArleBear', 1)\n",
      "('cryptoheather', 1)\n",
      "('rebellegrrl', 1)\n",
      "('gabrielama2103', 1)\n",
      "('makaveligangsta', 1)\n",
      "('Mr_Don_Auto', 1)\n",
      "('Ymirko', 1)\n",
      "('RecRuth', 1)\n",
      "('DariusMacSean', 1)\n",
      "('buckzollo', 1)\n",
      "...\n",
      "\n"
     ]
    },
    {
     "data": {
      "text/plain": [
       "False"
      ]
     },
     "execution_count": 12,
     "metadata": {},
     "output_type": "execute_result"
    },
    {
     "name": "stdout",
     "output_type": "stream",
     "text": [
      "-------------------------------------------\n",
      "Time: 2019-03-02 21:35:00\n",
      "-------------------------------------------\n",
      "('RedRobynRockin1', 1)\n",
      "('FluffscruffJrs', 2)\n",
      "('BinAshry', 1)\n",
      "('michael_fohey', 1)\n",
      "('jennifer_0780', 1)\n",
      "('datalgorithms', 1)\n",
      "('prayerbloom', 1)\n",
      "('Mr_Don_Auto', 1)\n",
      "('JamesRMarcello', 1)\n",
      "('Heids7673', 1)\n",
      "...\n",
      "\n",
      "-------------------------------------------\n",
      "Time: 2019-03-02 21:36:00\n",
      "-------------------------------------------\n",
      "('kyoka00524', 2)\n",
      "('MisterHaines', 1)\n",
      "('bcordrey60', 1)\n",
      "('Schneeweiss12', 1)\n",
      "('L_DeWeaver', 1)\n",
      "('zoealpha', 1)\n",
      "('mrjustsaying', 1)\n",
      "('ReaganCBrown', 1)\n",
      "('Yaeli12', 1)\n",
      "('UsLiberate', 1)\n",
      "...\n",
      "\n",
      "-------------------------------------------\n",
      "Time: 2019-03-02 21:37:00\n",
      "-------------------------------------------\n",
      "('OditaIsrael', 1)\n",
      "('PSUVTachira_', 1)\n",
      "('CrazyCommonCens', 1)\n",
      "('KristiAnnMorri2', 1)\n",
      "('HipHopMarijuana', 1)\n",
      "('Aloha_Politics', 1)\n",
      "('fred062811', 1)\n",
      "('StomberK', 1)\n",
      "('rltrjane1', 1)\n",
      "('believeinxfiles', 1)\n",
      "...\n",
      "\n",
      "-------------------------------------------\n",
      "Time: 2019-03-02 21:38:00\n",
      "-------------------------------------------\n",
      "('OliverMcGee', 1)\n",
      "('ChoklitLioness', 1)\n",
      "('Jackmit30430051', 1)\n",
      "('Itsme4681Laura', 1)\n",
      "('grabaroot', 1)\n",
      "('HRCFanGal', 1)\n",
      "('brain_blog_', 1)\n",
      "('Platipotter', 1)\n",
      "('NomDeVoyage1', 1)\n",
      "('DJSiri', 1)\n",
      "...\n",
      "\n",
      "-------------------------------------------\n",
      "Time: 2019-03-02 21:39:00\n",
      "-------------------------------------------\n",
      "('shylohg', 1)\n",
      "('antoniovalleni1', 1)\n",
      "('rltrjane1', 1)\n",
      "('rmorse65', 1)\n",
      "('miek65', 1)\n",
      "('GodBlessTrump45', 1)\n",
      "('nubrous', 1)\n",
      "('politeperson123', 1)\n",
      "('JamesRMarcello', 1)\n",
      "('AdamCopeland77', 1)\n",
      "...\n",
      "\n",
      "-------------------------------------------\n",
      "Time: 2019-03-02 21:40:00\n",
      "-------------------------------------------\n",
      "('22_ring', 1)\n",
      "('MaryOsb36485285', 1)\n",
      "('machocien14', 1)\n",
      "('osslausanne', 1)\n",
      "('isaracist', 1)\n",
      "('treniatoday', 1)\n",
      "('ljcljf', 1)\n",
      "('nightwi1derness', 1)\n",
      "('peiro_rembado', 1)\n",
      "('America71468768', 1)\n",
      "...\n",
      "\n",
      "-------------------------------------------\n",
      "Time: 2019-03-02 21:41:00\n",
      "-------------------------------------------\n",
      "('silverbract', 3)\n",
      "('GemsFunny', 1)\n",
      "('DrLindaShelton', 1)\n",
      "('CometsMum', 1)\n",
      "('smartdissent', 1)\n",
      "('randi42125561', 1)\n",
      "('America71468768', 1)\n",
      "('HLAurora63', 1)\n",
      "('thesteelshark', 1)\n",
      "('KangarooCaught', 1)\n",
      "...\n",
      "\n",
      "-------------------------------------------\n",
      "Time: 2019-03-02 21:42:00\n",
      "-------------------------------------------\n",
      "('SunnyJL52', 1)\n",
      "('007jorgeEnrique', 1)\n",
      "('ricardojesus39', 1)\n",
      "('01splcheck', 1)\n",
      "('co_rapunzel4', 1)\n",
      "('JRWeaver55', 1)\n",
      "('ub2bad2', 1)\n",
      "('POTUSNetwork', 1)\n",
      "('JaniceTXBlessed', 1)\n",
      "('abcMAZxyz', 1)\n",
      "...\n",
      "\n"
     ]
    }
   ],
   "source": [
    "ssc.start()\n",
    "ssc.awaitTerminationOrTimeout(timeout=120)"
   ]
  },
  {
   "cell_type": "code",
   "execution_count": 8,
   "metadata": {},
   "outputs": [],
   "source": [
    "ssc.stop()"
   ]
  },
  {
   "cell_type": "code",
   "execution_count": null,
   "metadata": {},
   "outputs": [],
   "source": []
  }
 ],
 "metadata": {
  "kernelspec": {
   "display_name": "Python 3",
   "language": "python",
   "name": "python3"
  },
  "language_info": {
   "codemirror_mode": {
    "name": "ipython",
    "version": 3
   },
   "file_extension": ".py",
   "mimetype": "text/x-python",
   "name": "python",
   "nbconvert_exporter": "python",
   "pygments_lexer": "ipython3",
   "version": "3.7.1"
  }
 },
 "nbformat": 4,
 "nbformat_minor": 2
}
